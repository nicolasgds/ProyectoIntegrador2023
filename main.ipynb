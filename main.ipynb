{
 "cells": [
  {
   "cell_type": "markdown",
   "id": "c0d16934",
   "metadata": {},
   "source": [
    "## Web Scraping: Cotización Cedears Argentina\n",
    "---\n",
    "https://iol.invertironline.com/mercado/cotizaciones/argentina/cedears/todos"
   ]
  },
  {
   "cell_type": "code",
   "execution_count": 17,
   "id": "20c5d706",
   "metadata": {},
   "outputs": [],
   "source": [
    "import pandas as pd\n",
    "import requests\n",
    "from bs4 import BeautifulSoup"
   ]
  },
  {
   "cell_type": "code",
   "execution_count": 2,
   "id": "bdaac7ef",
   "metadata": {},
   "outputs": [
    {
     "data": {
      "text/plain": [
       "200"
      ]
     },
     "execution_count": 2,
     "metadata": {},
     "output_type": "execute_result"
    }
   ],
   "source": [
    "# Página principal:\n",
    "url = 'https://iol.invertironline.com/mercado/cotizaciones/argentina/cedears/todos'\n",
    "\n",
    "# Realizo el request:\n",
    "r = requests.get(url)\n",
    "\n",
    "# Chequeo de status:\n",
    "r.status_code #200"
   ]
  },
  {
   "cell_type": "code",
   "execution_count": 3,
   "id": "490ebf31",
   "metadata": {},
   "outputs": [],
   "source": [
    "# Creamos la 'sopa':\n",
    "s = BeautifulSoup(r.text, 'lxml')"
   ]
  },
  {
   "cell_type": "code",
   "execution_count": 4,
   "id": "9f1af3f5",
   "metadata": {},
   "outputs": [],
   "source": [
    "# Separamos la tabla de datos:\n",
    "tabla = s.find('tbody')"
   ]
  },
  {
   "cell_type": "markdown",
   "id": "0d735e1d",
   "metadata": {},
   "source": [
    "### Extracción de Datos:\n",
    "---"
   ]
  },
  {
   "cell_type": "code",
   "execution_count": 11,
   "id": "bebd6ce6",
   "metadata": {},
   "outputs": [
    {
     "data": {
      "text/plain": [
       "345"
      ]
     },
     "execution_count": 11,
     "metadata": {},
     "output_type": "execute_result"
    }
   ],
   "source": [
    "# Extraemos los nombres de las especies:\n",
    "nombres = tabla.find_all('b')\n",
    "especies = [nombre.get_text(strip=True) for nombre in nombres]\n",
    "#print(especies)\n",
    "len(especies)"
   ]
  },
  {
   "cell_type": "code",
   "execution_count": 13,
   "id": "1f7c6585",
   "metadata": {},
   "outputs": [
    {
     "data": {
      "text/plain": [
       "345"
      ]
     },
     "execution_count": 13,
     "metadata": {},
     "output_type": "execute_result"
    }
   ],
   "source": [
    "# Extraemos la Empresa :\n",
    "links_nombres = tabla.find_all('a')\n",
    "empresa = [link.get('title') for link in links_nombres]\n",
    "#print(empresa)\n",
    "len(empresa)"
   ]
  },
  {
   "cell_type": "code",
   "execution_count": 18,
   "id": "6180a5cb",
   "metadata": {},
   "outputs": [
    {
     "data": {
      "text/html": [
       "<div>\n",
       "<style scoped>\n",
       "    .dataframe tbody tr th:only-of-type {\n",
       "        vertical-align: middle;\n",
       "    }\n",
       "\n",
       "    .dataframe tbody tr th {\n",
       "        vertical-align: top;\n",
       "    }\n",
       "\n",
       "    .dataframe thead th {\n",
       "        text-align: right;\n",
       "    }\n",
       "</style>\n",
       "<table border=\"1\" class=\"dataframe\">\n",
       "  <thead>\n",
       "    <tr style=\"text-align: right;\">\n",
       "      <th></th>\n",
       "      <th>CEDEAR</th>\n",
       "      <th>EMPRESA</th>\n",
       "    </tr>\n",
       "  </thead>\n",
       "  <tbody>\n",
       "    <tr>\n",
       "      <th>0</th>\n",
       "      <td>AAL</td>\n",
       "      <td>AMERICAN AIRLINES GROUP INC.</td>\n",
       "    </tr>\n",
       "    <tr>\n",
       "      <th>1</th>\n",
       "      <td>AAPL</td>\n",
       "      <td>Apple</td>\n",
       "    </tr>\n",
       "    <tr>\n",
       "      <th>2</th>\n",
       "      <td>AAPLC</td>\n",
       "      <td>Apple</td>\n",
       "    </tr>\n",
       "    <tr>\n",
       "      <th>3</th>\n",
       "      <td>AAPLD</td>\n",
       "      <td>Apple</td>\n",
       "    </tr>\n",
       "    <tr>\n",
       "      <th>4</th>\n",
       "      <td>ABBV</td>\n",
       "      <td>AbbVie Inc.</td>\n",
       "    </tr>\n",
       "    <tr>\n",
       "      <th>...</th>\n",
       "      <td>...</td>\n",
       "      <td>...</td>\n",
       "    </tr>\n",
       "    <tr>\n",
       "      <th>340</th>\n",
       "      <td>XP</td>\n",
       "      <td>XP INC.</td>\n",
       "    </tr>\n",
       "    <tr>\n",
       "      <th>341</th>\n",
       "      <td>XROX</td>\n",
       "      <td>Xerox</td>\n",
       "    </tr>\n",
       "    <tr>\n",
       "      <th>342</th>\n",
       "      <td>YELP</td>\n",
       "      <td>Yelp Inc</td>\n",
       "    </tr>\n",
       "    <tr>\n",
       "      <th>343</th>\n",
       "      <td>ZM</td>\n",
       "      <td>Zoom Video Communications Inc.</td>\n",
       "    </tr>\n",
       "    <tr>\n",
       "      <th>344</th>\n",
       "      <td>ZMD</td>\n",
       "      <td>Zoom Video Communications Inc</td>\n",
       "    </tr>\n",
       "  </tbody>\n",
       "</table>\n",
       "<p>345 rows × 2 columns</p>\n",
       "</div>"
      ],
      "text/plain": [
       "    CEDEAR                         EMPRESA\n",
       "0      AAL    AMERICAN AIRLINES GROUP INC.\n",
       "1     AAPL                           Apple\n",
       "2    AAPLC                           Apple\n",
       "3    AAPLD                           Apple\n",
       "4     ABBV                     AbbVie Inc.\n",
       "..     ...                             ...\n",
       "340     XP                         XP INC.\n",
       "341   XROX                           Xerox\n",
       "342   YELP                        Yelp Inc\n",
       "343     ZM  Zoom Video Communications Inc.\n",
       "344    ZMD   Zoom Video Communications Inc\n",
       "\n",
       "[345 rows x 2 columns]"
      ]
     },
     "execution_count": 18,
     "metadata": {},
     "output_type": "execute_result"
    }
   ],
   "source": [
    "# Las asociamos en el orden de extracción:\n",
    "dic = {\"CEDEAR\": especies, \"EMPRESA\": empresa}\n",
    "df = pd.DataFrame(dic)\n",
    "df"
   ]
  },
  {
   "cell_type": "code",
   "execution_count": 31,
   "id": "4a5b6197",
   "metadata": {
    "scrolled": true
   },
   "outputs": [
    {
     "data": {
      "text/html": [
       "<div>\n",
       "<style scoped>\n",
       "    .dataframe tbody tr th:only-of-type {\n",
       "        vertical-align: middle;\n",
       "    }\n",
       "\n",
       "    .dataframe tbody tr th {\n",
       "        vertical-align: top;\n",
       "    }\n",
       "\n",
       "    .dataframe thead th {\n",
       "        text-align: right;\n",
       "    }\n",
       "</style>\n",
       "<table border=\"1\" class=\"dataframe\">\n",
       "  <thead>\n",
       "    <tr style=\"text-align: right;\">\n",
       "      <th></th>\n",
       "      <th>CEDEAR</th>\n",
       "      <th>EMPRESA</th>\n",
       "      <th>INDICE_EMPRESA</th>\n",
       "    </tr>\n",
       "  </thead>\n",
       "  <tbody>\n",
       "    <tr>\n",
       "      <th>0</th>\n",
       "      <td>AAL</td>\n",
       "      <td>AMERICAN AIRLINES GROUP INC.</td>\n",
       "      <td>1</td>\n",
       "    </tr>\n",
       "    <tr>\n",
       "      <th>1</th>\n",
       "      <td>AAPL</td>\n",
       "      <td>Apple</td>\n",
       "      <td>2</td>\n",
       "    </tr>\n",
       "    <tr>\n",
       "      <th>2</th>\n",
       "      <td>AAPLC</td>\n",
       "      <td>Apple</td>\n",
       "      <td>2</td>\n",
       "    </tr>\n",
       "    <tr>\n",
       "      <th>3</th>\n",
       "      <td>AAPLD</td>\n",
       "      <td>Apple</td>\n",
       "      <td>2</td>\n",
       "    </tr>\n",
       "    <tr>\n",
       "      <th>4</th>\n",
       "      <td>ABBV</td>\n",
       "      <td>AbbVie Inc.</td>\n",
       "      <td>3</td>\n",
       "    </tr>\n",
       "    <tr>\n",
       "      <th>...</th>\n",
       "      <td>...</td>\n",
       "      <td>...</td>\n",
       "      <td>...</td>\n",
       "    </tr>\n",
       "    <tr>\n",
       "      <th>340</th>\n",
       "      <td>XP</td>\n",
       "      <td>XP INC.</td>\n",
       "      <td>241</td>\n",
       "    </tr>\n",
       "    <tr>\n",
       "      <th>341</th>\n",
       "      <td>XROX</td>\n",
       "      <td>Xerox</td>\n",
       "      <td>242</td>\n",
       "    </tr>\n",
       "    <tr>\n",
       "      <th>342</th>\n",
       "      <td>YELP</td>\n",
       "      <td>Yelp Inc</td>\n",
       "      <td>243</td>\n",
       "    </tr>\n",
       "    <tr>\n",
       "      <th>343</th>\n",
       "      <td>ZM</td>\n",
       "      <td>Zoom Video Communications Inc.</td>\n",
       "      <td>244</td>\n",
       "    </tr>\n",
       "    <tr>\n",
       "      <th>344</th>\n",
       "      <td>ZMD</td>\n",
       "      <td>Zoom Video Communications Inc</td>\n",
       "      <td>245</td>\n",
       "    </tr>\n",
       "  </tbody>\n",
       "</table>\n",
       "<p>345 rows × 3 columns</p>\n",
       "</div>"
      ],
      "text/plain": [
       "    CEDEAR                         EMPRESA  INDICE_EMPRESA\n",
       "0      AAL    AMERICAN AIRLINES GROUP INC.               1\n",
       "1     AAPL                           Apple               2\n",
       "2    AAPLC                           Apple               2\n",
       "3    AAPLD                           Apple               2\n",
       "4     ABBV                     AbbVie Inc.               3\n",
       "..     ...                             ...             ...\n",
       "340     XP                         XP INC.             241\n",
       "341   XROX                           Xerox             242\n",
       "342   YELP                        Yelp Inc             243\n",
       "343     ZM  Zoom Video Communications Inc.             244\n",
       "344    ZMD   Zoom Video Communications Inc             245\n",
       "\n",
       "[345 rows x 3 columns]"
      ]
     },
     "execution_count": 31,
     "metadata": {},
     "output_type": "execute_result"
    }
   ],
   "source": [
    "# Generamos un 'Indice de Empresa', para ello primero corregimos inconsistencias en los nombres:\n",
    "empresa_unique = df['EMPRESA'].unique()"
   ]
  },
  {
   "cell_type": "markdown",
   "id": "5db0ad0b",
   "metadata": {},
   "source": [
    "**Inconsistencias:**\n",
    "\n",
    "* 'AbbVie Inc.', 'Abbvie Inc.'\n",
    "* 'Amazon ', 'Amazon'\n",
    "* 'Bioceres Crop Solutions Corp.', 'Bioceres Crop Solutions Corp'\n",
    "* 'DocuSign Inc.', 'Docusign Inc'\n",
    "* 'Etsy Inc.', 'Etsy Inc',\n",
    "* 'Harmony Gold ', 'Harmony Gold'\n",
    "* 'Ibm', 'IBM'\n",
    "* 'Jpmorgan Chase & Co.', 'JPMorgan Chase & Co.'\n",
    "* 'Mastercard Inc.', 'Mastercard'\n",
    "* \"McDonald's\", \"Mcdonald's\"\n",
    "* 'Novartis Ag', 'Novartis AG'\n",
    "* 'Snowflake Inc.', 'Snowflake Inc'\n",
    "* 'Square Inc.', 'Square Inc'\n",
    "* 'At&T', 'AT&T'\n",
    "* 'Zoom Video Communications Inc.', 'Zoom Video Communications Inc'"
   ]
  },
  {
   "cell_type": "code",
   "execution_count": 32,
   "id": "5b62b302",
   "metadata": {},
   "outputs": [
    {
     "data": {
      "text/plain": [
       "array(['AMERICAN AIRLINES GROUP INC.', 'Apple', 'AbbVie Inc.',\n",
       "       'Abbvie Inc.', 'Ambev', 'Airbnb, Inc.', 'Abbott Laboratories',\n",
       "       'Adobe Systems Incorporated', 'Adecoagro', 'Analog Devices',\n",
       "       'Agnico Eagle Mines Limited', 'American International Group',\n",
       "       'EMBOTELLADORA ANDINA S.A.', 'Applied Materials',\n",
       "       'Advanced Micro Devices', 'Amgen', 'America Movil', 'Amazon ',\n",
       "       'Amazon', 'Aluminum Corporation Of China Limited',\n",
       "       'Arcos Dorados Holdings', 'Etf Ark Innovation', 'Yamana Gold Inc.',\n",
       "       'Broadcom Inc.', 'Avery Dennison', 'American Express',\n",
       "       'Astrazeneca', 'Boeing', 'Bank of America', 'Alibaba Group',\n",
       "       'Blackberry', 'Banco Bradesco S.A.',\n",
       "       'Banco Bilbao Vizcaya Argentaria', 'Barclays', 'BHP Billiton Ltd.',\n",
       "       'Baidu', 'Biogen Inc.', 'Bioceres Crop Solutions Corp.',\n",
       "       'Bioceres Crop Solutions Corp', 'Bitfarms Ltd.',\n",
       "       'Bank of New York Mellon', 'Bristol-Myers Squibb Co',\n",
       "       'Bunge Limited', 'BP', 'BRF S.A.', 'Berkshire Hathaway',\n",
       "       'Banco Santander (Brasil)', 'Citigroup',\n",
       "       'Corporación América Airports S.A.', 'Cardinal Health',\n",
       "       'Avis Budget Group Inc.', 'Caterpillar', 'Coeur Mining',\n",
       "       'Colgate-Palmolive', 'COINBASE GLOBAL INC.', 'Costco Wholesale',\n",
       "       'Salesforce.com Inc.', 'Credit Suisse Group', 'Cisco Systems',\n",
       "       'Chevron', 'Cemex', 'Dupont Corporation', 'Deere', 'Despegar',\n",
       "       'Etf Spdr Dow Jones Industrial', 'The Walt Disney Company',\n",
       "       'DocuSign Inc.', 'Docusign Inc', 'Dow Inc.',\n",
       "       'ELECTRONIC ARTS INC.', 'eBay',\n",
       "       'Centrais Elétricas Brasileiras S.A. - Eletrobrás',\n",
       "       'Etf Ishares Msci Emerging Market', 'Equifax Inc.',\n",
       "       'LM Ericsson Telephone', 'Embraer S.A.', 'Etsy Inc.', 'Etsy Inc',\n",
       "       'Etf Ishares Msci Brazil', 'Ford Motor Company',\n",
       "       'Freeport-Mcmoran Copper & Gold', 'FedEx', 'Femsa', 'First Solar',\n",
       "       'General Electric', 'Gold Fields', 'Gerdau', 'Gilead Sciences',\n",
       "       'Globant', 'Corning', 'General Motors Co.', 'Google',\n",
       "       'Barrick Gold', 'Geopark Ltd.', 'Garmin LTD.', 'Goldman Sachs',\n",
       "       'GlaxoSmithKline', 'Halliburton Co.', 'Home Depot', 'Hecla Mining',\n",
       "       'Honda Motor', 'Harmony Gold ', 'Harmony Gold', 'Harley Davidson',\n",
       "       'Honeywell International', 'Hewlett-Packard', 'Hsbc Holdings',\n",
       "       'Hershey', 'Hut 8 Mining Corp.', 'Howmet Aerospace', 'Ibm', 'IBM',\n",
       "       'Intel', 'International Paper', 'Banco Itaú Unibanco S.A.',\n",
       "       'Etf Ishares Trust Russell 2000', 'Jd.Com',\n",
       "       'Jumia Technologies AG', 'Johnson & Johnson',\n",
       "       'Jpmorgan Chase & Co.', 'JPMorgan Chase & Co.', 'Kimberly-Clark',\n",
       "       'The Coca-Cola Company', 'Eli Lilly', 'Lockheed Martin',\n",
       "       'LAM RESEARCH CORP.', 'Las Vegas Sands', 'Lloyds Banking Group',\n",
       "       'Mastercard Inc.', 'Mastercard', \"McDonald's\", \"Mcdonald's\",\n",
       "       'Medtronic', 'MercadoLibre', 'Meta Platforms Inc',\n",
       "       'Marsh & McLennan', '3M', 'Altria Group', 'The Mosaic Co', 'Merck',\n",
       "       'Microsoft', 'Motorola', 'MicroStrategy Incorporated',\n",
       "       'Micron Technology, Inc.', 'Newmont Mining Corporation', 'Netflix',\n",
       "       'National Grid', 'NIO INC.', 'Nike', 'Nokia',\n",
       "       'Cedear Natura & Co Holding Sa', 'Netease, Inc.', 'Nucor',\n",
       "       'Nvidia', 'Novartis Ag', 'Novartis AG', 'Gazprom', 'Orange',\n",
       "       'Oracle', 'Occidental Petroleum Corporation',\n",
       "       'Pan American Silver Corp.', 'Palo Alto Networks, Inc.',\n",
       "       'Pitney Bowes', 'Petroleo Brasileiro S.A.', 'PACCAR', 'PepsiCo',\n",
       "       'Pfizer', 'Procter & Gamble', 'Phillips Electronics',\n",
       "       'Posco Holdings Inc.', 'Phillips 66', 'Paypal Holdings Inc.',\n",
       "       'Qualcomm', 'Etf Invesco Qqq Trust', 'Roblox Corporation',\n",
       "       'Rio Tinto', 'United Technologies', 'Banco Santander (Cedear)',\n",
       "       'SAP', 'Satellogic Inc.',\n",
       "       'COMPANHIA DE SANEAMENTO BÁSICO DO ESTADO DE SÃO PAULO-SABESP',\n",
       "       'Starbucks', 'Southern Copper', 'Sea Ltd.', 'Shell Plc',\n",
       "       'Shopify Inc.', 'Silvergate Capital Corporation',\n",
       "       'Companhia Siderúrgica Nacional', 'Schlumberger', 'Snap-On',\n",
       "       'Snap Inc.', 'Snowflake Inc.', 'Snowflake Inc', 'Sony Corporation',\n",
       "       'S&P GLOBAL INC.', 'Spotify Technology S.A.', 'Etf Spdr S&P 500',\n",
       "       'Square Inc.', 'Square Inc', 'Suzano', 'Sysco', 'At&T', 'AT&T',\n",
       "       'Telefonica Sa', 'Tenaris', 'Target Corporation',\n",
       "       'Tim Participações S.A.', 'Toyota Motors',\n",
       "       'Thermo Fisher Scientific Inc.', 'Tripadvisor Inc.', 'Tesla',\n",
       "       'Taiwan Semiconductor Manufacturing Cedear', 'Total',\n",
       "       'Grupo Televisa', 'TWILIO INC.', 'Twitter', 'Texas Instruments',\n",
       "       'Ternium', 'United Airlines Holdings, Inc.',\n",
       "       'Uber Technologies, Inc.', 'Ultrapar Participacoes', 'Unilever',\n",
       "       'UnitedHealth Group Inc.', 'Union Pacific Corp.',\n",
       "       'Upstart Holdings, Inc.', 'CEDEAR U.S.Banco', 'Visa ', 'Vale',\n",
       "       'Vista Energy S.A.B. De C.V.', 'Telefonica Brasil',\n",
       "       'Vodafone Group', 'Verisign', 'Verizon Communications',\n",
       "       'Walgreens Boots Alliance Inc.', 'Wells Fargo', 'Walmart',\n",
       "       'United States Steel', 'Etf Spdr Energy Sector',\n",
       "       'Etf Spdr Financial Sector', 'Exxon Mobil', 'XP INC.', 'Xerox',\n",
       "       'Yelp Inc', 'Zoom Video Communications Inc.',\n",
       "       'Zoom Video Communications Inc'], dtype=object)"
      ]
     },
     "execution_count": 32,
     "metadata": {},
     "output_type": "execute_result"
    }
   ],
   "source": [
    "indices_empresa = [(list(empresa_unique).index(i) + 1) for i in df['EMPRESA']]\n",
    "df['INDICE_EMPRESA'] = indices_empresa\n",
    "df"
   ]
  },
  {
   "cell_type": "code",
   "execution_count": 6,
   "id": "62048e4d",
   "metadata": {},
   "outputs": [
    {
     "data": {
      "text/plain": [
       "345"
      ]
     },
     "execution_count": 6,
     "metadata": {},
     "output_type": "execute_result"
    }
   ],
   "source": [
    "# Extraemos los valores de Apertura:\n",
    "val_apertura = tabla.find_all('td', {\"data-field\": \"Apertura\"})\n",
    "apertura = [valor.get_text(strip=True) for valor in val_apertura]\n",
    "#print(apertura)\n",
    "len(apertura)"
   ]
  },
  {
   "cell_type": "code",
   "execution_count": 7,
   "id": "c34a1b5a",
   "metadata": {},
   "outputs": [
    {
     "data": {
      "text/plain": [
       "345"
      ]
     },
     "execution_count": 7,
     "metadata": {},
     "output_type": "execute_result"
    }
   ],
   "source": [
    "# Extraemos los valores Mínimos:\n",
    "val_minimo = tabla.find_all('td', {\"data-field\": \"Minimo\"})\n",
    "minimo = [valor.get_text(strip=True) for valor in val_minimo]\n",
    "#print(minimo)\n",
    "len(minimo)"
   ]
  },
  {
   "cell_type": "code",
   "execution_count": 8,
   "id": "a8237760",
   "metadata": {},
   "outputs": [
    {
     "data": {
      "text/plain": [
       "345"
      ]
     },
     "execution_count": 8,
     "metadata": {},
     "output_type": "execute_result"
    }
   ],
   "source": [
    "# Extraemos los valores Máximos:\n",
    "val_maximo = tabla.find_all('td', {\"data-field\": \"Maximo\"})\n",
    "maximo = [valor.get_text(strip=True) for valor in val_maximo]\n",
    "#print(maximo)\n",
    "len(maximo)"
   ]
  },
  {
   "cell_type": "code",
   "execution_count": 9,
   "id": "0e8f91c7",
   "metadata": {},
   "outputs": [
    {
     "data": {
      "text/plain": [
       "345"
      ]
     },
     "execution_count": 9,
     "metadata": {},
     "output_type": "execute_result"
    }
   ],
   "source": [
    "# Extraemos los valores de Último Cierre:\n",
    "val_cierre = tabla.find_all('td', {\"data-field\": \"UltimoCierre\"})\n",
    "cierre = [valor.get_text(strip=True) for valor in val_cierre]\n",
    "#print(cierre)\n",
    "len(cierre)"
   ]
  },
  {
   "cell_type": "code",
   "execution_count": 24,
   "id": "f533df3f",
   "metadata": {},
   "outputs": [
    {
     "data": {
      "text/plain": [
       "345"
      ]
     },
     "execution_count": 24,
     "metadata": {},
     "output_type": "execute_result"
    }
   ],
   "source": [
    "# Extraemos los valores de Monto Operado:\n",
    "registros = tabla.find_all('tr', {'data-cantidad': '1'})\n",
    "monto_operado = [registro.find_all('td', class_=\"tar\")[-1].get_text(strip=True) for registro in registros]\n",
    "#print(monto_operado)\n",
    "len(monto_operado)"
   ]
  },
  {
   "cell_type": "code",
   "execution_count": null,
   "id": "eb724797",
   "metadata": {},
   "outputs": [],
   "source": []
  }
 ],
 "metadata": {
  "kernelspec": {
   "display_name": "Python 3 (ipykernel)",
   "language": "python",
   "name": "python3"
  },
  "language_info": {
   "codemirror_mode": {
    "name": "ipython",
    "version": 3
   },
   "file_extension": ".py",
   "mimetype": "text/x-python",
   "name": "python",
   "nbconvert_exporter": "python",
   "pygments_lexer": "ipython3",
   "version": "3.9.12"
  }
 },
 "nbformat": 4,
 "nbformat_minor": 5
}
