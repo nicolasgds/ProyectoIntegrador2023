{
 "cells": [
  {
   "cell_type": "markdown",
   "id": "c0d16934",
   "metadata": {},
   "source": [
    "## Web Scraping: Cotización Cedears Argentina\n",
    "---\n",
    "https://iol.invertironline.com/mercado/cotizaciones/argentina/cedears/todos"
   ]
  },
  {
   "cell_type": "code",
   "execution_count": 1,
   "id": "20c5d706",
   "metadata": {},
   "outputs": [],
   "source": [
    "import requests\n",
    "from bs4 import BeautifulSoup"
   ]
  },
  {
   "cell_type": "code",
   "execution_count": 4,
   "id": "bdaac7ef",
   "metadata": {},
   "outputs": [
    {
     "data": {
      "text/plain": [
       "200"
      ]
     },
     "execution_count": 4,
     "metadata": {},
     "output_type": "execute_result"
    }
   ],
   "source": [
    "# Página principal:\n",
    "url = 'https://iol.invertironline.com/mercado/cotizaciones/argentina/cedears/todos'\n",
    "\n",
    "# Realizo el request:\n",
    "r = requests.get(url)\n",
    "\n",
    "# Chequeo de status:\n",
    "r.status_code #200"
   ]
  },
  {
   "cell_type": "code",
   "execution_count": 5,
   "id": "490ebf31",
   "metadata": {},
   "outputs": [],
   "source": [
    "# Creamos la 'sopa':\n",
    "s = BeautifulSoup(r.text, 'lxml')"
   ]
  },
  {
   "cell_type": "code",
   "execution_count": 7,
   "id": "9f1af3f5",
   "metadata": {},
   "outputs": [],
   "source": [
    "# Separamos la tabla de datos:\n",
    "tabla = s.find('tbody')"
   ]
  },
  {
   "cell_type": "code",
   "execution_count": 22,
   "id": "bebd6ce6",
   "metadata": {},
   "outputs": [
    {
     "name": "stdout",
     "output_type": "stream",
     "text": [
      "['AAL', 'AAPL', 'AAPLC', 'AAPLD', 'ABBV', 'ABBVD', 'ABEV', 'ABNB', 'ABT', 'ABTD', 'ADBE', 'ADGO', 'ADI', 'AEM', 'AIG', 'AKO.B', 'AMAT', 'AMD', 'AMDD', 'AMGN', 'AMX', 'AMXD', 'AMZN', 'AMZNC', 'AMZND', 'AOCAD', 'ARCO', 'ARKKETF', 'ARKKDETF', 'AUY', 'AVGO', 'AVGOD', 'AVY', 'AXP', 'AXPD', 'AZN', 'AZND', 'BA', 'BA.C', 'BA.CD', 'BABA', 'BABAC', 'BABAD', 'BAD', 'BB', 'BBD', 'BBDC', 'BBDD', 'BBV', 'BCS', 'BHP', 'BIDU', 'BIDUD', 'BIIB', 'BIOX', 'BIOXD', 'BITF', 'BK', 'BMY', 'BNG', 'BP', 'BPD', 'BRFS', 'BRKB', 'BRKBD', 'BSBR', 'C', 'C.D', 'CAAP', 'CAH', 'CAHD', 'CAR', 'CAT', 'CATD', 'CDE', 'CL', 'COIN', 'COST', 'CRM', 'CS', 'CSCO', 'CSCOD', 'CVX', 'CVXD', 'CX', 'DD', 'DE', 'DESP', 'DESPD', 'DIAETF', 'DIADETF', 'DISN', 'DISND', 'DOCU', 'DOCUD', 'DOW', 'EA', 'EBAY', 'EBAYD', 'EBR', 'EEMETF', 'EEMDETF', 'EFX', 'EFXD', 'ERIC', 'ERJ', 'ERJD', 'ETSY', 'ETSYD', 'EWZETF', 'EWZDETF', 'F', 'FCX', 'FDX', 'FDXD', 'FMX', 'FMXD', 'FSLR', 'GE', 'GEC', 'GFI', 'GGB', 'GILD', 'GILDC', 'GILDD', 'GLOB', 'GLOBD', 'GLW', 'GM', 'GOGLD', 'GOLD', 'GOLDC', 'GOLDD', 'GOOGL', 'GPRK', 'GRMN', 'GS', 'GSD', 'GSK', 'GSKC', 'GSKD', 'HAL', 'HD', 'HL', 'HMC', 'HMY', 'HMYD', 'HOG', 'HON', 'HPQ', 'HSBC', 'HSY', 'HUT', 'HWM', 'HWMD', 'IBM', 'IBMD', 'INTC', 'INTCD', 'IP', 'ITUB', 'ITUBD', 'IWMETF', 'IWMDETF', 'JD', 'JMIA', 'JNJ', 'JNJC', 'JNJD', 'JPM', 'JPMD', 'KMB', 'KMBC', 'KO', 'KOC', 'KOD', 'LLY', 'LMT', 'LMTD', 'LRCX', 'LVS', 'LYG', 'MA', 'MAD', 'MCD', 'MCDD', 'MDT', 'MELI', 'MELIC', 'MELID', 'META', 'METAC', 'METAD', 'MMC', 'MMM', 'MMMD', 'MO', 'MOD', 'MOS', 'MRK', 'MRKD', 'MSFT', 'MSFTC', 'MSFTD', 'MSI', 'MSTR', 'MU', 'NEM', 'NEMD', 'NFLX', 'NFLXD', 'NGG', 'NIO', 'NKE', 'NKED', 'NOKA', 'NTCO', 'NTES', 'NUE', 'NVDA', 'NVDAD', 'NVS', 'NVSD', 'OGZD', 'OGZDD', 'ORAN', 'ORCL', 'OXY', 'PAAS', 'PANW', 'PBI', 'PBR', 'PBRD', 'PCAR', 'PEP', 'PFE', 'PFED', 'PG', 'PGD', 'PHG', 'PKS', 'PSX', 'PSXD', 'PYPL', 'PYPLD', 'QCOM', 'QCOMC', 'QCOMD', 'QQQETF', 'QQQDETF', 'RBLX', 'RIO', 'RIOD', 'RTX', 'SAN', 'SAP', 'SATL', 'SBS', 'SBUX', 'SCCO', 'SE', 'SHEL', 'SHOP', 'SHOPD', 'SI', 'SID', 'SLB', 'SLBD', 'SNA', 'SNAP', 'SNOW', 'SNOWD', 'SONY', 'SPGI', 'SPOT', 'SPOTD', 'SPYETF', 'SPYDETF', 'SQ', 'SQD', 'SUZ', 'SYY', 'T', 'TD', 'TEFO', 'TEN', 'TEND', 'TGT', 'TIMB', 'TM', 'TMD', 'TMO', 'TRIP', 'TSLA', 'TSLAC', 'TSLAD', 'TSM', 'TTE', 'TV', 'TWLO', 'TWTR', 'TWTRD', 'TXN', 'TXR', 'TXRD', 'UAL', 'UBER', 'UGP', 'UL', 'UNH', 'UNHD', 'UNP', 'UNPD', 'UPST', 'USB', 'V', 'VALE', 'VALED', 'VD', 'VIST', 'VISTD', 'VIV', 'VOD', 'VRSN', 'VZ', 'VZD', 'WBA', 'WFC', 'WFCC', 'WFCD', 'WMT', 'WMTD', 'X', 'XD', 'XLEETF', 'XLEDETF', 'XLFETF', 'XLFDETF', 'XOM', 'XOMD', 'XP', 'XROX', 'YELP', 'ZM', 'ZMD'] 345\n"
     ]
    }
   ],
   "source": [
    "# Extraemos los nombres de las Especies:\n",
    "nombres = tabla.find_all('b')\n",
    "especies = [nombre.get_text(strip=True) for nombre in nombres]\n",
    "print(especies, len(especies))"
   ]
  },
  {
   "cell_type": "code",
   "execution_count": null,
   "id": "62048e4d",
   "metadata": {},
   "outputs": [],
   "source": []
  }
 ],
 "metadata": {
  "kernelspec": {
   "display_name": "Python 3 (ipykernel)",
   "language": "python",
   "name": "python3"
  },
  "language_info": {
   "codemirror_mode": {
    "name": "ipython",
    "version": 3
   },
   "file_extension": ".py",
   "mimetype": "text/x-python",
   "name": "python",
   "nbconvert_exporter": "python",
   "pygments_lexer": "ipython3",
   "version": "3.9.12"
  }
 },
 "nbformat": 4,
 "nbformat_minor": 5
}
