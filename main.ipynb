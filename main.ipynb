{
 "cells": [
  {
   "cell_type": "markdown",
   "id": "c0d16934",
   "metadata": {},
   "source": [
    "## Web Scraping: Cotización Cedears Argentina\n",
    "---\n",
    "https://iol.invertironline.com/mercado/cotizaciones/argentina/cedears/todos"
   ]
  },
  {
   "cell_type": "code",
   "execution_count": 1,
   "id": "20c5d706",
   "metadata": {},
   "outputs": [],
   "source": [
    "import pandas as pd\n",
    "import requests\n",
    "from bs4 import BeautifulSoup\n",
    "from datetime import date\n",
    "import pymysql"
   ]
  },
  {
   "cell_type": "markdown",
   "id": "0d735e1d",
   "metadata": {},
   "source": [
    "### Extracción primaria de Datos:\n",
    "---"
   ]
  },
  {
   "cell_type": "code",
   "execution_count": 2,
   "id": "bdaac7ef",
   "metadata": {},
   "outputs": [
    {
     "data": {
      "text/plain": [
       "200"
      ]
     },
     "execution_count": 2,
     "metadata": {},
     "output_type": "execute_result"
    }
   ],
   "source": [
    "# Página principal:\n",
    "url = 'https://iol.invertironline.com/mercado/cotizaciones/argentina/cedears/todos'\n",
    "\n",
    "# Realizo el request:\n",
    "r = requests.get(url)\n",
    "\n",
    "# Chequeo de status:\n",
    "r.status_code #200"
   ]
  },
  {
   "cell_type": "code",
   "execution_count": 3,
   "id": "490ebf31",
   "metadata": {},
   "outputs": [],
   "source": [
    "# Creamos la 'sopa':\n",
    "s = BeautifulSoup(r.text, 'lxml')"
   ]
  },
  {
   "cell_type": "code",
   "execution_count": 4,
   "id": "9f1af3f5",
   "metadata": {},
   "outputs": [],
   "source": [
    "# Separamos la tabla de datos:\n",
    "tabla = s.find('tbody')"
   ]
  },
  {
   "cell_type": "code",
   "execution_count": 20,
   "id": "bebd6ce6",
   "metadata": {},
   "outputs": [
    {
     "data": {
      "text/plain": [
       "345"
      ]
     },
     "execution_count": 20,
     "metadata": {},
     "output_type": "execute_result"
    }
   ],
   "source": [
    "# Extraemos los nombres de los CEDEAR:\n",
    "nombres = tabla.find_all('b')\n",
    "cedear = [nombre.get_text(strip=True) for nombre in nombres]\n",
    "#print(cedear)\n",
    "len(cedear)"
   ]
  },
  {
   "cell_type": "code",
   "execution_count": 9,
   "id": "1f7c6585",
   "metadata": {},
   "outputs": [
    {
     "data": {
      "text/plain": [
       "345"
      ]
     },
     "execution_count": 9,
     "metadata": {},
     "output_type": "execute_result"
    }
   ],
   "source": [
    "# Extraemos los nombres de las Empresas:\n",
    "links_nombres = tabla.find_all('a')\n",
    "empresa = [link.get('title') for link in links_nombres]\n",
    "#print(empresa)\n",
    "len(empresa)"
   ]
  },
  {
   "cell_type": "code",
   "execution_count": 31,
   "id": "62048e4d",
   "metadata": {},
   "outputs": [
    {
     "data": {
      "text/plain": [
       "345"
      ]
     },
     "execution_count": 31,
     "metadata": {},
     "output_type": "execute_result"
    }
   ],
   "source": [
    "# Extraemos los valores de Apertura:\n",
    "val_apertura = tabla.find_all('td', {\"data-field\": \"Apertura\"})\n",
    "apertura = [valor.get_text(strip=True) for valor in val_apertura]\n",
    "#print(apertura)\n",
    "len(apertura)"
   ]
  },
  {
   "cell_type": "code",
   "execution_count": 32,
   "id": "c34a1b5a",
   "metadata": {},
   "outputs": [
    {
     "data": {
      "text/plain": [
       "345"
      ]
     },
     "execution_count": 32,
     "metadata": {},
     "output_type": "execute_result"
    }
   ],
   "source": [
    "# Extraemos los valores Mínimos:\n",
    "val_minimo = tabla.find_all('td', {\"data-field\": \"Minimo\"})\n",
    "minimo = [valor.get_text(strip=True) for valor in val_minimo]\n",
    "#print(minimo)\n",
    "len(minimo)"
   ]
  },
  {
   "cell_type": "code",
   "execution_count": 33,
   "id": "a8237760",
   "metadata": {},
   "outputs": [
    {
     "data": {
      "text/plain": [
       "345"
      ]
     },
     "execution_count": 33,
     "metadata": {},
     "output_type": "execute_result"
    }
   ],
   "source": [
    "# Extraemos los valores Máximos:\n",
    "val_maximo = tabla.find_all('td', {\"data-field\": \"Maximo\"})\n",
    "maximo = [valor.get_text(strip=True) for valor in val_maximo]\n",
    "#print(maximo)\n",
    "len(maximo)"
   ]
  },
  {
   "cell_type": "code",
   "execution_count": 34,
   "id": "0e8f91c7",
   "metadata": {},
   "outputs": [
    {
     "data": {
      "text/plain": [
       "345"
      ]
     },
     "execution_count": 34,
     "metadata": {},
     "output_type": "execute_result"
    }
   ],
   "source": [
    "# Extraemos los valores de Último Cierre:\n",
    "val_cierre = tabla.find_all('td', {\"data-field\": \"UltimoCierre\"})\n",
    "cierre = [valor.get_text(strip=True) for valor in val_cierre]\n",
    "#print(cierre)\n",
    "len(cierre)"
   ]
  },
  {
   "cell_type": "code",
   "execution_count": 36,
   "id": "f533df3f",
   "metadata": {},
   "outputs": [
    {
     "data": {
      "text/plain": [
       "345"
      ]
     },
     "execution_count": 36,
     "metadata": {},
     "output_type": "execute_result"
    }
   ],
   "source": [
    "# Extraemos los valores de Monto Operado:\n",
    "registros = tabla.find_all('tr', {'data-cantidad': '1'})\n",
    "monto_operado = [registro.find_all('td', class_=\"tar\")[-1].get_text(strip=True) for registro in registros]\n",
    "#print(monto_operado)\n",
    "len(monto_operado)"
   ]
  },
  {
   "cell_type": "markdown",
   "id": "d8e77a54",
   "metadata": {},
   "source": [
    "### Funciones Scraper:\n",
    "---\n",
    "\n",
    "#### FUNCION extraer_tabla():\n",
    "\n",
    "Esta función se encarga de extraer la tabla principal desde la url indicada:"
   ]
  },
  {
   "cell_type": "code",
   "execution_count": 2,
   "id": "16b3118a",
   "metadata": {},
   "outputs": [],
   "source": [
    "def extraer_tabla():\n",
    "    url = 'https://iol.invertironline.com/mercado/cotizaciones/argentina/cedears/todos'\n",
    "    r = requests.get(url)\n",
    "    s = BeautifulSoup(r.text, 'lxml')\n",
    "    tabla = s.find('tbody')\n",
    "    return tabla"
   ]
  },
  {
   "cell_type": "markdown",
   "id": "5db0ad0b",
   "metadata": {},
   "source": [
    "#### FUNCION datos_cedear_empresas():\n",
    "\n",
    "Esta función se encarga de descargar e identificar los nombres de los CEDEAR con sus Empresas asociadas. Una misma empresa puede estar asociada a más de un CEDEAR. Esta lista inicial de Empresas contiene inconsistencias en los nombres de las mismas: Mayúsculas, falta de puntos de abreviación o espacios en blanco añadidos. Esto hace que una misma Empresa figure como dos entidades comerciales diferentes. Debemos primero corregirlas sin modificar la cantidad de registros ni el orden de los mismos.\n",
    "\n",
    "**Inconsistencias halladas:**\n",
    "\n",
    "* 'AbbVie Inc.', 'Abbvie Inc.'\n",
    "* 'Amazon ', 'Amazon'\n",
    "* 'Bioceres Crop Solutions Corp.', 'Bioceres Crop Solutions Corp'\n",
    "* 'DocuSign Inc.', 'Docusign Inc'\n",
    "* 'Etsy Inc.', 'Etsy Inc',\n",
    "* 'Harmony Gold ', 'Harmony Gold'\n",
    "* 'Ibm', 'IBM'\n",
    "* 'Jpmorgan Chase & Co.', 'JPMorgan Chase & Co.'\n",
    "* 'Mastercard Inc.', 'Mastercard'\n",
    "* \"McDonald's\", \"Mcdonald's\"\n",
    "* 'Novartis Ag', 'Novartis AG'\n",
    "* 'Snowflake Inc.', 'Snowflake Inc'\n",
    "* 'Square Inc.', 'Square Inc'\n",
    "* 'At&T', 'AT&T'\n",
    "* 'Zoom Video Communications Inc.', 'Zoom Video Communications Inc'"
   ]
  },
  {
   "cell_type": "code",
   "execution_count": 3,
   "id": "6180a5cb",
   "metadata": {},
   "outputs": [],
   "source": [
    "def datos_cedear_empresas():\n",
    "    # Extraemos la tabla:\n",
    "    tabla = extraer_tabla()\n",
    "    \n",
    "    # Extraemos los nombres de los CEDEAR:\n",
    "    nombres = tabla.find_all('b')\n",
    "    cedear = [nombre.get_text(strip=True) for nombre in nombres]\n",
    "    \n",
    "    # Extraemos los nombres de las Empresas:\n",
    "    links_nombres = tabla.find_all('a')\n",
    "    empresa = [link.get('title') for link in links_nombres]\n",
    "\n",
    "    # Las asociamos en el orden de extracción y creamos el DataFrame:\n",
    "    dic = {\"CEDEAR\": cedear, \"EMPRESA\": empresa}\n",
    "    df = pd.DataFrame(dic)\n",
    "\n",
    "    # Corregimos inconsistencias en los nombres:\n",
    "    erroneo = ['Abbvie Inc.', 'Amazon ', 'Bioceres Crop Solutions Corp', 'Docusign Inc', 'Etsy Inc', 'Harmony Gold ', 'Ibm',\n",
    "               'Jpmorgan Chase & Co.', 'Mastercard', \"Mcdonald's\", 'Novartis Ag', 'Snowflake Inc', 'Square Inc', 'At&T',\n",
    "               'Zoom Video Communications Inc', \"McDonald's\"]\n",
    "    correcto = ['AbbVie Inc.', 'Amazon', 'Bioceres Crop Solutions Corp.', 'DocuSign Inc.', 'Etsy Inc.', 'Harmony Gold', 'IBM',\n",
    "                'JPMorgan Chase & Co.', 'Mastercard Inc.', \"McDonald's\", 'Novartis AG', 'Snowflake Inc.', 'Square Inc.',\n",
    "                'AT&T','Zoom Video Communications Inc.', 'McDonalds']\n",
    "\n",
    "    for i in range(len(erroneo)):\n",
    "        df.replace(erroneo[i], correcto[i], inplace=True)\n",
    "\n",
    "    # Generamos el 'Indice de Empresa', para reconocer la pertenencia de cada CEDEAR:\n",
    "    empresa_unique = df['EMPRESA'].unique()\n",
    "    indices_empresa = [(list(empresa_unique).index(i) + 1) for i in df['EMPRESA']]\n",
    "    df['INDICE_EMPRESA'] = indices_empresa\n",
    "    return df"
   ]
  },
  {
   "cell_type": "markdown",
   "id": "1af5b607",
   "metadata": {},
   "source": [
    "#### FUNCIÓN registros_diarios_cedear():\n",
    "\n",
    "Esta función se encarga de extraer los regístros de movimiento diario pertenecientes a cada CEDEAR:"
   ]
  },
  {
   "cell_type": "code",
   "execution_count": 18,
   "id": "7efb7f2a",
   "metadata": {},
   "outputs": [],
   "source": [
    "# Función Auxiliar 'a_float()': Convierte los valores String con puntos (separadores de miles) y comas (decimales) a float:\n",
    "def a_float(lista):\n",
    "    lista_corregida = []\n",
    "    for i in range(len(lista)):\n",
    "        # Elimino los puntos separadores de miles:\n",
    "        item = lista[i].replace('.', '')\n",
    "        # Reemplazo la coma decimal, por un punto:\n",
    "        item = item.replace(',', '.')\n",
    "        lista_corregida.append(float(item))\n",
    "    return lista_corregida\n",
    "\n",
    "def registros_diarios_cedear():\n",
    "    # Extraemos la tabla:\n",
    "    tabla = extraer_tabla()\n",
    "    df = pd.DataFrame()\n",
    "    \n",
    "    # Extraemos los valores de Apertura:\n",
    "    val_apertura = tabla.find_all('td', {\"data-field\": \"Apertura\"})\n",
    "    apertura = [valor.get_text(strip=True) for valor in val_apertura]\n",
    "    apertura = a_float(apertura)\n",
    "    \n",
    "    # Extraemos los valores Mínimos:\n",
    "    val_minimo = tabla.find_all('td', {\"data-field\": \"Minimo\"})\n",
    "    minimo = [valor.get_text(strip=True) for valor in val_minimo]\n",
    "    minimo = a_float(minimo)\n",
    "    \n",
    "    # Extraemos los valores Máximos:\n",
    "    val_maximo = tabla.find_all('td', {\"data-field\": \"Maximo\"})\n",
    "    maximo = [valor.get_text(strip=True) for valor in val_maximo]\n",
    "    maximo = a_float(maximo)\n",
    "    \n",
    "    # Extraemos los valores de Último Cierre:\n",
    "    val_cierre = tabla.find_all('td', {\"data-field\": \"UltimoCierre\"})\n",
    "    cierre = [valor.get_text(strip=True) for valor in val_cierre]\n",
    "    cierre = a_float(cierre)\n",
    "    \n",
    "    # Extraemos los valores de Monto Operado:\n",
    "    registros = tabla.find_all('tr', {'data-cantidad': '1'})\n",
    "    monto_operado = [registro.find_all('td', class_=\"tar\")[-1].get_text(strip=True) for registro in registros]\n",
    "    monto_operado = a_float(monto_operado)\n",
    "    \n",
    "    # Creamos el DataFrame:\n",
    "    df['APERTURA'] = apertura\n",
    "    df['MINIMO'] = minimo\n",
    "    df['MAXIMO'] = maximo\n",
    "    df['CIERRE'] = cierre\n",
    "    df['MONTO_OPERADO'] = monto_operado\n",
    "    df['FECHA'] = str(date.today())\n",
    "    return df"
   ]
  },
  {
   "cell_type": "code",
   "execution_count": 7,
   "id": "7c7612c6",
   "metadata": {},
   "outputs": [],
   "source": [
    "# Probamos las funciones de forma simultánea, generando un DataFrame común:\n",
    "#df = pd.concat([datos_cedear_empresas(), registros_diarios_cedear()], axis=1)\n",
    "#df"
   ]
  },
  {
   "cell_type": "markdown",
   "id": "eb255220",
   "metadata": {},
   "source": [
    "### Conexión y Guardado en BBDD:\n",
    "---\n",
    "\n",
    "La BBDD a utilizar constará de 3 tablas:\n",
    "\n",
    "   * Tabla **'empresas'**: Campos: id (*primary_key, auto_increment*), nombre.\n",
    "   * Tabla **'cedear'**: Campos: id (*primary_key, auto_increment*), nombre, empresa_id (*foreign_key*).\n",
    "   * Tabla **'registros'**: Campos: id (*primary_key, auto_increment*), apertura, minimo, maximo, cierre, monto_operado, fecha, cedear_id (*foreign_key*)."
   ]
  },
  {
   "cell_type": "code",
   "execution_count": 5,
   "id": "08f34d66",
   "metadata": {},
   "outputs": [],
   "source": [
    "# Creamos la conexión:\n",
    "connection = pymysql.connect(\n",
    "    host = \"127.0.0.1\",\n",
    "    port = 3307,\n",
    "    user = \"root\",\n",
    "    password = \"\",\n",
    "    db = \"cotizaciones_pi2023\"\n",
    ")\n",
    "\n",
    "# Instanciamos el cursor que se encargará de interactuar con la BBDD:\n",
    "cursor = connection.cursor()"
   ]
  },
  {
   "cell_type": "markdown",
   "id": "5e0788b2",
   "metadata": {},
   "source": [
    "#### Tabla 'empresas':\n",
    "\n",
    "Esta tabla se encarga de guardar el registro de las Empresas involucradas en el mercado de CEDEAR. Es estática y no recibirá nuevos registros ni modificaciones mientras no hayan modificaciones en el mercado."
   ]
  },
  {
   "cell_type": "code",
   "execution_count": 7,
   "id": "a4f50d76",
   "metadata": {},
   "outputs": [
    {
     "data": {
      "text/html": [
       "<div>\n",
       "<style scoped>\n",
       "    .dataframe tbody tr th:only-of-type {\n",
       "        vertical-align: middle;\n",
       "    }\n",
       "\n",
       "    .dataframe tbody tr th {\n",
       "        vertical-align: top;\n",
       "    }\n",
       "\n",
       "    .dataframe thead th {\n",
       "        text-align: right;\n",
       "    }\n",
       "</style>\n",
       "<table border=\"1\" class=\"dataframe\">\n",
       "  <thead>\n",
       "    <tr style=\"text-align: right;\">\n",
       "      <th></th>\n",
       "      <th>CEDEAR</th>\n",
       "      <th>EMPRESA</th>\n",
       "      <th>INDICE_EMPRESA</th>\n",
       "    </tr>\n",
       "  </thead>\n",
       "  <tbody>\n",
       "    <tr>\n",
       "      <th>0</th>\n",
       "      <td>AAL</td>\n",
       "      <td>AMERICAN AIRLINES GROUP INC.</td>\n",
       "      <td>1</td>\n",
       "    </tr>\n",
       "    <tr>\n",
       "      <th>1</th>\n",
       "      <td>AAPL</td>\n",
       "      <td>Apple</td>\n",
       "      <td>2</td>\n",
       "    </tr>\n",
       "    <tr>\n",
       "      <th>2</th>\n",
       "      <td>AAPLC</td>\n",
       "      <td>Apple</td>\n",
       "      <td>2</td>\n",
       "    </tr>\n",
       "    <tr>\n",
       "      <th>3</th>\n",
       "      <td>AAPLD</td>\n",
       "      <td>Apple</td>\n",
       "      <td>2</td>\n",
       "    </tr>\n",
       "    <tr>\n",
       "      <th>4</th>\n",
       "      <td>ABBV</td>\n",
       "      <td>AbbVie Inc.</td>\n",
       "      <td>3</td>\n",
       "    </tr>\n",
       "    <tr>\n",
       "      <th>...</th>\n",
       "      <td>...</td>\n",
       "      <td>...</td>\n",
       "      <td>...</td>\n",
       "    </tr>\n",
       "    <tr>\n",
       "      <th>340</th>\n",
       "      <td>XP</td>\n",
       "      <td>XP INC.</td>\n",
       "      <td>227</td>\n",
       "    </tr>\n",
       "    <tr>\n",
       "      <th>341</th>\n",
       "      <td>XROX</td>\n",
       "      <td>Xerox</td>\n",
       "      <td>228</td>\n",
       "    </tr>\n",
       "    <tr>\n",
       "      <th>342</th>\n",
       "      <td>YELP</td>\n",
       "      <td>Yelp Inc</td>\n",
       "      <td>229</td>\n",
       "    </tr>\n",
       "    <tr>\n",
       "      <th>343</th>\n",
       "      <td>ZM</td>\n",
       "      <td>Zoom Video Communications Inc.</td>\n",
       "      <td>230</td>\n",
       "    </tr>\n",
       "    <tr>\n",
       "      <th>344</th>\n",
       "      <td>ZMD</td>\n",
       "      <td>Zoom Video Communications Inc.</td>\n",
       "      <td>230</td>\n",
       "    </tr>\n",
       "  </tbody>\n",
       "</table>\n",
       "<p>345 rows × 3 columns</p>\n",
       "</div>"
      ],
      "text/plain": [
       "    CEDEAR                         EMPRESA  INDICE_EMPRESA\n",
       "0      AAL    AMERICAN AIRLINES GROUP INC.               1\n",
       "1     AAPL                           Apple               2\n",
       "2    AAPLC                           Apple               2\n",
       "3    AAPLD                           Apple               2\n",
       "4     ABBV                     AbbVie Inc.               3\n",
       "..     ...                             ...             ...\n",
       "340     XP                         XP INC.             227\n",
       "341   XROX                           Xerox             228\n",
       "342   YELP                        Yelp Inc             229\n",
       "343     ZM  Zoom Video Communications Inc.             230\n",
       "344    ZMD  Zoom Video Communications Inc.             230\n",
       "\n",
       "[345 rows x 3 columns]"
      ]
     },
     "execution_count": 7,
     "metadata": {},
     "output_type": "execute_result"
    }
   ],
   "source": [
    "# Extracción de datos de CEDEAR y Empresas asociadas:\n",
    "df_cedear_empresas = datos_cedear_empresas()\n",
    "df_cedear_empresas"
   ]
  },
  {
   "cell_type": "code",
   "execution_count": 9,
   "id": "4ad33af9",
   "metadata": {},
   "outputs": [],
   "source": [
    "# Creación de Tabla 'empresas':\n",
    "#comando = \"CREATE TABLE empresas (id_empresa INT NOT NULL AUTO_INCREMENT, nombre VARCHAR(100) NOT NULL, PRIMARY KEY (id_empresa));\"\n",
    "#cursor.execute(comando)\n",
    "#connection.commit()"
   ]
  },
  {
   "cell_type": "code",
   "execution_count": 10,
   "id": "2637a316",
   "metadata": {},
   "outputs": [],
   "source": [
    "# Selecciono los datos a guardar:\n",
    "#empresas = list(df_cedear_empresas['EMPRESA'].unique())\n",
    "\n",
    "# Guardado en Tabla 'empresas':\n",
    "#for i in range(len(empresas)):\n",
    "#    comando = \"INSERT INTO empresas (nombre) VALUES ('\"+empresas[i]+\"');\"\n",
    "#    cursor.execute(comando)\n",
    "#connection.commit()"
   ]
  },
  {
   "cell_type": "markdown",
   "id": "c7676fd2",
   "metadata": {},
   "source": [
    "#### Tabla 'cedear':\n",
    "\n",
    "Esta tabla se encarga de guardar los registros de los CEDEAR disponibles en el mercado así como también la Empresa a la cual están asociados. Al igual que la tabla **'empresas'**, es estática y no recibirá nuevas modificaciones mientras los CEDEAR disponibles en el mercado nacional sigan siendo los mismos."
   ]
  },
  {
   "cell_type": "code",
   "execution_count": 11,
   "id": "c0592e98",
   "metadata": {},
   "outputs": [],
   "source": [
    "# Creación de Tabla 'cedear':\n",
    "#comando = \"CREATE TABLE cedear (id_cedear INT NOT NULL AUTO_INCREMENT, nombre VARCHAR(10) NOT NULL, indice_empresa INT NOT NULL, PRIMARY KEY (id_cedear), FOREIGN KEY (indice_empresa) REFERENCES empresas(id_empresa));\"\n",
    "#cursor.execute(comando)\n",
    "#connection.commit()"
   ]
  },
  {
   "cell_type": "code",
   "execution_count": 14,
   "id": "2766b2d8",
   "metadata": {},
   "outputs": [],
   "source": [
    "# Selecciono los datos a guardar:\n",
    "#cedear = list(df_cedear_empresas['CEDEAR'])\n",
    "#indice_empresa = list(df_cedear_empresas['INDICE_EMPRESA'])\n",
    "\n",
    "# Guardado en Tabla 'cedear':\n",
    "#for i in range(len(cedear)):\n",
    "#    comando = \"INSERT INTO cedear (nombre, indice_empresa) VALUES ('\"+cedear[i]+\"', \"+str(indice_empresa[i])+\");\"\n",
    "#    cursor.execute(comando)\n",
    "#connection.commit()"
   ]
  },
  {
   "cell_type": "markdown",
   "id": "d8bc3ba8",
   "metadata": {},
   "source": [
    "#### Tabla 'registros'\n",
    "\n",
    "Esta tabla se encarga de guardar los registros diarios de operación pertenecientes a cada CEDEAR. Con cada extracción diaria incorporará nuevos registros, cada uno de ellos perteneciente a cada CEDEAR. Al realizar la extracción web siempre en el mismo orden (alfabetico), podemos automatizar la asignación de cada uno de estos registros, al CEDEAR correspondiente.\n",
    "\n",
    "Al acumular los días de extracción, podremos consultar la evolución de mercado de cada CEDEAR, o de un grupo de ellos, filtrados por Empresa, por valor, o por fecha."
   ]
  },
  {
   "cell_type": "code",
   "execution_count": 19,
   "id": "be6ab3b1",
   "metadata": {},
   "outputs": [
    {
     "data": {
      "text/html": [
       "<div>\n",
       "<style scoped>\n",
       "    .dataframe tbody tr th:only-of-type {\n",
       "        vertical-align: middle;\n",
       "    }\n",
       "\n",
       "    .dataframe tbody tr th {\n",
       "        vertical-align: top;\n",
       "    }\n",
       "\n",
       "    .dataframe thead th {\n",
       "        text-align: right;\n",
       "    }\n",
       "</style>\n",
       "<table border=\"1\" class=\"dataframe\">\n",
       "  <thead>\n",
       "    <tr style=\"text-align: right;\">\n",
       "      <th></th>\n",
       "      <th>APERTURA</th>\n",
       "      <th>MINIMO</th>\n",
       "      <th>MAXIMO</th>\n",
       "      <th>CIERRE</th>\n",
       "      <th>MONTO_OPERADO</th>\n",
       "      <th>FECHA</th>\n",
       "    </tr>\n",
       "  </thead>\n",
       "  <tbody>\n",
       "    <tr>\n",
       "      <th>0</th>\n",
       "      <td>5399.00</td>\n",
       "      <td>5105.00</td>\n",
       "      <td>5399.00</td>\n",
       "      <td>5166.00</td>\n",
       "      <td>12877002.0</td>\n",
       "      <td>2023-11-14</td>\n",
       "    </tr>\n",
       "    <tr>\n",
       "      <th>1</th>\n",
       "      <td>16243.00</td>\n",
       "      <td>16046.50</td>\n",
       "      <td>16621.50</td>\n",
       "      <td>16245.50</td>\n",
       "      <td>617671478.0</td>\n",
       "      <td>2023-11-14</td>\n",
       "    </tr>\n",
       "    <tr>\n",
       "      <th>2</th>\n",
       "      <td>17.50</td>\n",
       "      <td>17.50</td>\n",
       "      <td>17.50</td>\n",
       "      <td>17.50</td>\n",
       "      <td>0.0</td>\n",
       "      <td>2023-11-14</td>\n",
       "    </tr>\n",
       "    <tr>\n",
       "      <th>3</th>\n",
       "      <td>18.90</td>\n",
       "      <td>18.10</td>\n",
       "      <td>18.90</td>\n",
       "      <td>18.60</td>\n",
       "      <td>42088.0</td>\n",
       "      <td>2023-11-14</td>\n",
       "    </tr>\n",
       "    <tr>\n",
       "      <th>4</th>\n",
       "      <td>12100.00</td>\n",
       "      <td>12080.50</td>\n",
       "      <td>12366.50</td>\n",
       "      <td>12154.00</td>\n",
       "      <td>10782068.0</td>\n",
       "      <td>2023-11-14</td>\n",
       "    </tr>\n",
       "    <tr>\n",
       "      <th>...</th>\n",
       "      <td>...</td>\n",
       "      <td>...</td>\n",
       "      <td>...</td>\n",
       "      <td>...</td>\n",
       "      <td>...</td>\n",
       "      <td>...</td>\n",
       "    </tr>\n",
       "    <tr>\n",
       "      <th>340</th>\n",
       "      <td>4858.50</td>\n",
       "      <td>4748.00</td>\n",
       "      <td>4941.00</td>\n",
       "      <td>4827.00</td>\n",
       "      <td>1953885.0</td>\n",
       "      <td>2023-11-14</td>\n",
       "    </tr>\n",
       "    <tr>\n",
       "      <th>341</th>\n",
       "      <td>11677.50</td>\n",
       "      <td>11630.00</td>\n",
       "      <td>11677.50</td>\n",
       "      <td>11630.00</td>\n",
       "      <td>46568.0</td>\n",
       "      <td>2023-11-14</td>\n",
       "    </tr>\n",
       "    <tr>\n",
       "      <th>342</th>\n",
       "      <td>18993.00</td>\n",
       "      <td>18993.00</td>\n",
       "      <td>18993.00</td>\n",
       "      <td>18993.00</td>\n",
       "      <td>0.0</td>\n",
       "      <td>2023-11-14</td>\n",
       "    </tr>\n",
       "    <tr>\n",
       "      <th>343</th>\n",
       "      <td>1159.50</td>\n",
       "      <td>1140.00</td>\n",
       "      <td>1248.00</td>\n",
       "      <td>1144.50</td>\n",
       "      <td>1143848.0</td>\n",
       "      <td>2023-11-14</td>\n",
       "    </tr>\n",
       "    <tr>\n",
       "      <th>344</th>\n",
       "      <td>1.26</td>\n",
       "      <td>1.26</td>\n",
       "      <td>1.26</td>\n",
       "      <td>1.26</td>\n",
       "      <td>189.0</td>\n",
       "      <td>2023-11-14</td>\n",
       "    </tr>\n",
       "  </tbody>\n",
       "</table>\n",
       "<p>345 rows × 6 columns</p>\n",
       "</div>"
      ],
      "text/plain": [
       "     APERTURA    MINIMO    MAXIMO    CIERRE  MONTO_OPERADO       FECHA\n",
       "0     5399.00   5105.00   5399.00   5166.00     12877002.0  2023-11-14\n",
       "1    16243.00  16046.50  16621.50  16245.50    617671478.0  2023-11-14\n",
       "2       17.50     17.50     17.50     17.50            0.0  2023-11-14\n",
       "3       18.90     18.10     18.90     18.60        42088.0  2023-11-14\n",
       "4    12100.00  12080.50  12366.50  12154.00     10782068.0  2023-11-14\n",
       "..        ...       ...       ...       ...            ...         ...\n",
       "340   4858.50   4748.00   4941.00   4827.00      1953885.0  2023-11-14\n",
       "341  11677.50  11630.00  11677.50  11630.00        46568.0  2023-11-14\n",
       "342  18993.00  18993.00  18993.00  18993.00            0.0  2023-11-14\n",
       "343   1159.50   1140.00   1248.00   1144.50      1143848.0  2023-11-14\n",
       "344      1.26      1.26      1.26      1.26          189.0  2023-11-14\n",
       "\n",
       "[345 rows x 6 columns]"
      ]
     },
     "execution_count": 19,
     "metadata": {},
     "output_type": "execute_result"
    }
   ],
   "source": [
    "# Extracción de datos de registros (Ejecutar diariamente, luego del horario de cierre de Mercados):\n",
    "df_registros_diarios = registros_diarios_cedear()\n",
    "df_registros_diarios"
   ]
  },
  {
   "cell_type": "code",
   "execution_count": 26,
   "id": "bdc42d2b",
   "metadata": {},
   "outputs": [],
   "source": [
    "# Creación de Tabla 'registros':\n",
    "#comando = \"CREATE TABLE registros (id_registro INT NOT NULL AUTO_INCREMENT, apertura DOUBLE NOT NULL, minimo DOUBLE NOT NULL, maximo DOUBLE NOT NULL, cierre DOUBLE NOT NULL, monto_operado DOUBLE NOT NULL, fecha DATE NOT NULL, indice_cedear INT NOT NULL, PRIMARY KEY (id_registro), FOREIGN KEY (indice_cedear) REFERENCES cedear(id_cedear));\"\n",
    "#cursor.execute(comando)\n",
    "#connection.commit()"
   ]
  },
  {
   "cell_type": "code",
   "execution_count": 28,
   "id": "d3b390be",
   "metadata": {},
   "outputs": [],
   "source": [
    "# Selecciono los datos a guardar:\n",
    "apertura = list(df_registros_diarios['APERTURA'])\n",
    "minimo = list(df_registros_diarios['MINIMO'])\n",
    "maximo = list(df_registros_diarios['MAXIMO'])\n",
    "cierre = list(df_registros_diarios['CIERRE'])\n",
    "monto_operado = list(df_registros_diarios['MONTO_OPERADO'])\n",
    "fecha = list(df_registros_diarios['FECHA'])\n",
    "ind_cedear = [(i+1) for i in range(len(apertura))]\n",
    "\n",
    "# Guardado en Tabla 'registros':\n",
    "for i in range(len(apertura)):\n",
    "    comando = \"INSERT INTO registros (apertura, minimo, maximo, cierre, monto_operado, fecha, indice_cedear) VALUES (\"+str(apertura[i])+\", \"+str(minimo[i])+\", \"+str(maximo[i])+\", \"+str(cierre[i])+\", \"+str(monto_operado[i])+\", '\"+str(fecha[i])+\"', \"+str(ind_cedear[i])+\");\"\n",
    "    cursor.execute(comando)\n",
    "connection.commit()"
   ]
  },
  {
   "cell_type": "code",
   "execution_count": null,
   "id": "d397d302",
   "metadata": {},
   "outputs": [],
   "source": []
  }
 ],
 "metadata": {
  "kernelspec": {
   "display_name": "Python 3 (ipykernel)",
   "language": "python",
   "name": "python3"
  },
  "language_info": {
   "codemirror_mode": {
    "name": "ipython",
    "version": 3
   },
   "file_extension": ".py",
   "mimetype": "text/x-python",
   "name": "python",
   "nbconvert_exporter": "python",
   "pygments_lexer": "ipython3",
   "version": "3.9.12"
  }
 },
 "nbformat": 4,
 "nbformat_minor": 5
}
